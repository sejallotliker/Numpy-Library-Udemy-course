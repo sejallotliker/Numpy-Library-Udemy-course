{
  "nbformat": 4,
  "nbformat_minor": 0,
  "metadata": {
    "colab": {
      "name": "Numpy Library course Udemy.ipynb",
      "provenance": [],
      "authorship_tag": "ABX9TyOBjCv+jdiJAAwabLTk9B3h",
      "include_colab_link": true
    },
    "kernelspec": {
      "name": "python3",
      "display_name": "Python 3"
    },
    "language_info": {
      "name": "python"
    }
  },
  "cells": [
    {
      "cell_type": "markdown",
      "metadata": {
        "id": "view-in-github",
        "colab_type": "text"
      },
      "source": [
        "<a href=\"https://colab.research.google.com/github/sejallotliker/Numpy-Library-Udemy-course/blob/main/Numpy_Library_course_Udemy.ipynb\" target=\"_parent\"><img src=\"https://colab.research.google.com/assets/colab-badge.svg\" alt=\"Open In Colab\"/></a>"
      ]
    },
    {
      "cell_type": "markdown",
      "source": [
        "#Numpy Library\n",
        "\n",
        "It is numerical python which basically deals with numbers."
      ],
      "metadata": {
        "id": "jiK7igbaJ8Wp"
      }
    },
    {
      "cell_type": "code",
      "execution_count": null,
      "metadata": {
        "id": "sJD9uxVCioJw"
      },
      "outputs": [],
      "source": [
        "import numpy as np\n",
        "#help(np.array)"
      ]
    },
    {
      "cell_type": "code",
      "source": [
        "a = np.array([1,2,3,4,5])\n",
        "print(a)"
      ],
      "metadata": {
        "colab": {
          "base_uri": "https://localhost:8080/"
        },
        "id": "n0lqoEJcjSWZ",
        "outputId": "e2bcb7e5-1d8e-4acc-832a-8f61eaf23471"
      },
      "execution_count": null,
      "outputs": [
        {
          "output_type": "stream",
          "name": "stdout",
          "text": [
            "[1 2 3 4 5]\n"
          ]
        }
      ]
    },
    {
      "cell_type": "code",
      "source": [
        "b = np.array([[1,2,3,4,5],[6,7,8,9,10]])\n",
        "print(b)"
      ],
      "metadata": {
        "colab": {
          "base_uri": "https://localhost:8080/"
        },
        "id": "qTzf0jsKkOxc",
        "outputId": "c1992b2a-87b8-4fa6-d30f-99d58afe5cd8"
      },
      "execution_count": null,
      "outputs": [
        {
          "output_type": "stream",
          "name": "stdout",
          "text": [
            "[[ 1  2  3  4  5]\n",
            " [ 6  7  8  9 10]]\n"
          ]
        }
      ]
    },
    {
      "cell_type": "code",
      "source": [
        "c= np.array([1,2,3,4],'complex')\n",
        "print(c)"
      ],
      "metadata": {
        "colab": {
          "base_uri": "https://localhost:8080/"
        },
        "id": "d_rgyG0mklHR",
        "outputId": "84da4c61-45ee-43bb-ea66-fba9fb9a1b58"
      },
      "execution_count": null,
      "outputs": [
        {
          "output_type": "stream",
          "name": "stdout",
          "text": [
            "[1.+0.j 2.+0.j 3.+0.j 4.+0.j]\n"
          ]
        }
      ]
    },
    {
      "cell_type": "markdown",
      "source": [
        "## Arange function\n",
        "\n",
        "\n",
        "```\n",
        "arange(start, stop, skip, dtype)\n",
        "```\n",
        "NumPy arange() is one of the array creation routines based on numerical ranges. It creates an instance of ndarray with evenly spaced values and returns the reference to it.\n"
      ],
      "metadata": {
        "id": "UJCzcbrNmOvs"
      }
    },
    {
      "cell_type": "code",
      "source": [
        "#help(np.arange)\n",
        "\n",
        "d= np.arange(1,7)\n",
        "print(d)"
      ],
      "metadata": {
        "colab": {
          "base_uri": "https://localhost:8080/"
        },
        "id": "eps3SEnzlRP_",
        "outputId": "2deb355b-319f-4a1b-9e44-e6963af8866b"
      },
      "execution_count": null,
      "outputs": [
        {
          "output_type": "stream",
          "name": "stdout",
          "text": [
            "[1 2 3 4 5 6]\n"
          ]
        }
      ]
    },
    {
      "cell_type": "code",
      "source": [
        "d= np.arange(12.0)\n",
        "print(d)"
      ],
      "metadata": {
        "colab": {
          "base_uri": "https://localhost:8080/"
        },
        "id": "I6YvVBOHmgNm",
        "outputId": "94ae96a0-8622-4486-a483-f7da7176c06e"
      },
      "execution_count": null,
      "outputs": [
        {
          "output_type": "stream",
          "name": "stdout",
          "text": [
            "[ 0.  1.  2.  3.  4.  5.  6.  7.  8.  9. 10. 11.]\n"
          ]
        }
      ]
    },
    {
      "cell_type": "code",
      "source": [
        "d_1= np.arange(2, 20, 2)\n",
        "print(d_1)\n",
        "d_2= np.arange(10, dtype=\"complex\")\n",
        "print(d_2)"
      ],
      "metadata": {
        "colab": {
          "base_uri": "https://localhost:8080/"
        },
        "id": "HrtLcslyns-_",
        "outputId": "0e2ed944-a2e9-4137-bd7d-4b5ded261052"
      },
      "execution_count": null,
      "outputs": [
        {
          "output_type": "stream",
          "name": "stdout",
          "text": [
            "[ 2  4  6  8 10 12 14 16 18]\n",
            "[0.+0.j 1.+0.j 2.+0.j 3.+0.j 4.+0.j 5.+0.j 6.+0.j 7.+0.j 8.+0.j 9.+0.j]\n"
          ]
        }
      ]
    },
    {
      "cell_type": "markdown",
      "source": [
        "##zeros()\n",
        "\n",
        "Returns a new array of given shape and type with zeros."
      ],
      "metadata": {
        "id": "lSBpaNGEyOIY"
      }
    },
    {
      "cell_type": "code",
      "source": [
        "#help(np.zeros)\n",
        "p= np.zeros(10)\n",
        "print(p)"
      ],
      "metadata": {
        "id": "r-tIYcDQoGBU",
        "colab": {
          "base_uri": "https://localhost:8080/"
        },
        "outputId": "5eabc649-ee90-4c18-fa95-da4d8bfc8c65"
      },
      "execution_count": null,
      "outputs": [
        {
          "output_type": "stream",
          "name": "stdout",
          "text": [
            "[0. 0. 0. 0. 0. 0. 0. 0. 0. 0.]\n"
          ]
        }
      ]
    },
    {
      "cell_type": "code",
      "source": [
        "q= np.zeros(10, dtype='int')\n",
        "print(q)"
      ],
      "metadata": {
        "colab": {
          "base_uri": "https://localhost:8080/"
        },
        "id": "eQ61w9a1wHSX",
        "outputId": "f5f8e145-5fbc-4879-b7c6-538ffc7c5c8a"
      },
      "execution_count": null,
      "outputs": [
        {
          "output_type": "stream",
          "name": "stdout",
          "text": [
            "[0 0 0 0 0 0 0 0 0 0]\n"
          ]
        }
      ]
    },
    {
      "cell_type": "code",
      "source": [
        "#for 2-D array:\n",
        "r = np.zeros((5,5))\n",
        "print(r)\n"
      ],
      "metadata": {
        "colab": {
          "base_uri": "https://localhost:8080/"
        },
        "id": "GkhJFtIsw2mv",
        "outputId": "7ccf946a-036c-42c0-8fa3-07887e1babeb"
      },
      "execution_count": null,
      "outputs": [
        {
          "output_type": "stream",
          "name": "stdout",
          "text": [
            "[[0. 0. 0. 0. 0.]\n",
            " [0. 0. 0. 0. 0.]\n",
            " [0. 0. 0. 0. 0.]\n",
            " [0. 0. 0. 0. 0.]\n",
            " [0. 0. 0. 0. 0.]]\n"
          ]
        }
      ]
    },
    {
      "cell_type": "markdown",
      "source": [
        "##ones() \n",
        "\n",
        "Same as zeros()\n",
        "\n",
        "Returns a new array of a given shape and data type where the element's value is set to 1"
      ],
      "metadata": {
        "id": "dT1-yWzbyKAU"
      }
    },
    {
      "cell_type": "code",
      "source": [
        "#help(np.ones) \n",
        "my_var=np.ones(5)\n",
        "print(my_var)"
      ],
      "metadata": {
        "colab": {
          "base_uri": "https://localhost:8080/"
        },
        "id": "B82sdklgxDd9",
        "outputId": "305805aa-3687-4bbd-e7b7-bbc583ce498d"
      },
      "execution_count": null,
      "outputs": [
        {
          "output_type": "stream",
          "name": "stdout",
          "text": [
            "[1. 1. 1. 1. 1.]\n"
          ]
        }
      ]
    },
    {
      "cell_type": "markdown",
      "source": [
        "##empty()\n",
        "\n",
        "Returns a new array of a given shape and type with random values"
      ],
      "metadata": {
        "id": "P-j8-FCVyiVS"
      }
    },
    {
      "cell_type": "code",
      "source": [
        "t= np.empty([6,3] ,dtype='int')\n",
        "print(t)"
      ],
      "metadata": {
        "colab": {
          "base_uri": "https://localhost:8080/"
        },
        "id": "0YQnmhI6xhIQ",
        "outputId": "6269906e-b5e3-426a-fb8a-fb0b9b591813"
      },
      "execution_count": null,
      "outputs": [
        {
          "output_type": "stream",
          "name": "stdout",
          "text": [
            "[[     94566486068912        476741369971        489626271861]\n",
            " [       433791696995        498216206368        468151435365]\n",
            " [       476741369968        416611827826        450971566194]\n",
            " [       519691042924        502511173664        416611827822]\n",
            " [       416611827830        463856468073        420906795105]\n",
            " [       433791697004     406819302277120 8214565720364810240]]\n"
          ]
        }
      ]
    },
    {
      "cell_type": "markdown",
      "source": [
        "##Linspace function\n",
        "\n",
        "Linspace function return evenly spaced numbers over a specified interval."
      ],
      "metadata": {
        "id": "FKRSVBf4Iufw"
      }
    },
    {
      "cell_type": "code",
      "source": [
        "#help(np.linspace)\n",
        "m_1= np.linspace(1,40, num=5)\n",
        "print(m_1)\n",
        "\n",
        "m_2= np.linspace(1,40, num=5, endpoint= False)\n",
        "print(m_2)"
      ],
      "metadata": {
        "colab": {
          "base_uri": "https://localhost:8080/"
        },
        "id": "7fnEJC2oyytE",
        "outputId": "149a49bf-d267-4463-8bb3-32317d6d3fba"
      },
      "execution_count": null,
      "outputs": [
        {
          "output_type": "stream",
          "name": "stdout",
          "text": [
            "[ 1.   10.75 20.5  30.25 40.  ]\n",
            "[ 1.   8.8 16.6 24.4 32.2]\n"
          ]
        }
      ]
    },
    {
      "cell_type": "code",
      "source": [
        "m_2= np.linspace(1,40, num=8, dtype='int')\n",
        "print(m_2)"
      ],
      "metadata": {
        "colab": {
          "base_uri": "https://localhost:8080/"
        },
        "id": "beFdKd6oKTVX",
        "outputId": "9607d944-60b8-4ad8-afa2-fec86a14fb62"
      },
      "execution_count": null,
      "outputs": [
        {
          "output_type": "stream",
          "name": "stdout",
          "text": [
            "[ 1  6 12 17 23 28 34 40]\n"
          ]
        }
      ]
    },
    {
      "cell_type": "code",
      "source": [
        "m_2= np.linspace(1,40, num=8, retstep=True)\n",
        "print(m_2)"
      ],
      "metadata": {
        "colab": {
          "base_uri": "https://localhost:8080/"
        },
        "id": "Vpr7WSllPCLd",
        "outputId": "e859574f-c0a1-4ef7-b174-ffd93e55e012"
      },
      "execution_count": null,
      "outputs": [
        {
          "output_type": "stream",
          "name": "stdout",
          "text": [
            "(array([ 1.        ,  6.57142857, 12.14285714, 17.71428571, 23.28571429,\n",
            "       28.85714286, 34.42857143, 40.        ]), 5.571428571428571)\n"
          ]
        }
      ]
    },
    {
      "cell_type": "markdown",
      "source": [
        "#Identity and eye function:"
      ],
      "metadata": {
        "id": "3f6H4v9V4kkL"
      }
    },
    {
      "cell_type": "markdown",
      "source": [
        "##Eye function:\n",
        "\n",
        "It returns a 2D array, with 1's as diagonals and zeroes elsewhere"
      ],
      "metadata": {
        "id": "pSYZcGXa5sY3"
      }
    },
    {
      "cell_type": "code",
      "source": [
        "#help(np.eye)\n"
      ],
      "metadata": {
        "id": "1XCXCkbs5_Ty"
      },
      "execution_count": null,
      "outputs": []
    },
    {
      "cell_type": "code",
      "source": [
        "a= np.eye(3)\n",
        "print(a)"
      ],
      "metadata": {
        "colab": {
          "base_uri": "https://localhost:8080/"
        },
        "id": "1jvHjuRI6JyX",
        "outputId": "e9ed4f5c-e64c-4148-e566-71f7d8183f99"
      },
      "execution_count": null,
      "outputs": [
        {
          "output_type": "stream",
          "name": "stdout",
          "text": [
            "[[1. 0. 0.]\n",
            " [0. 1. 0.]\n",
            " [0. 0. 1.]]\n"
          ]
        }
      ]
    },
    {
      "cell_type": "code",
      "source": [
        "b= np.eye(4,5)\n",
        "#b=np.eye(n,m)\n",
        "#(n=no of rows, m= no of columns)\n",
        "print(b)"
      ],
      "metadata": {
        "colab": {
          "base_uri": "https://localhost:8080/"
        },
        "id": "YMYZZxdb7ixV",
        "outputId": "b61824ef-47eb-488b-b73e-f90d6f63699d"
      },
      "execution_count": null,
      "outputs": [
        {
          "output_type": "stream",
          "name": "stdout",
          "text": [
            "[[1. 0. 0. 0. 0.]\n",
            " [0. 1. 0. 0. 0.]\n",
            " [0. 0. 1. 0. 0.]\n",
            " [0. 0. 0. 1. 0.]]\n"
          ]
        }
      ]
    },
    {
      "cell_type": "markdown",
      "source": [
        "k=1 shifts the diagonal with 1 in the above diagonal.\n",
        "\n",
        "k=-1 shifts the giagonal filled with one below the main diagonal"
      ],
      "metadata": {
        "id": "3Qhh248282_M"
      }
    },
    {
      "cell_type": "code",
      "source": [
        "c_1=np.eye(3,k=1)\n",
        "print(c_1)"
      ],
      "metadata": {
        "colab": {
          "base_uri": "https://localhost:8080/"
        },
        "id": "RgUCrPfi8CUh",
        "outputId": "42b59380-913e-4334-f83e-c3664fe1aeb0"
      },
      "execution_count": null,
      "outputs": [
        {
          "output_type": "stream",
          "name": "stdout",
          "text": [
            "[[0. 1. 0.]\n",
            " [0. 0. 1.]\n",
            " [0. 0. 0.]]\n"
          ]
        }
      ]
    },
    {
      "cell_type": "code",
      "source": [
        "c_2=np.eye(3,k=-1)\n",
        "print(c_2)"
      ],
      "metadata": {
        "colab": {
          "base_uri": "https://localhost:8080/"
        },
        "id": "IA7dYkoj8cWo",
        "outputId": "54ebfa7b-cd46-446a-a9bd-d6286fefb0dd"
      },
      "execution_count": null,
      "outputs": [
        {
          "output_type": "stream",
          "name": "stdout",
          "text": [
            "[[0. 0. 0.]\n",
            " [1. 0. 0.]\n",
            " [0. 1. 0.]]\n"
          ]
        }
      ]
    },
    {
      "cell_type": "code",
      "source": [
        "d=np.eye(4, k=2, dtype='int')\n",
        "print(d)"
      ],
      "metadata": {
        "colab": {
          "base_uri": "https://localhost:8080/"
        },
        "id": "9I2DVu9c9m8L",
        "outputId": "9d995d10-ea13-4d3b-f065-89a701488310"
      },
      "execution_count": null,
      "outputs": [
        {
          "output_type": "stream",
          "name": "stdout",
          "text": [
            "[[0 0 1 0]\n",
            " [0 0 0 1]\n",
            " [0 0 0 0]\n",
            " [0 0 0 0]]\n"
          ]
        }
      ]
    },
    {
      "cell_type": "markdown",
      "source": [
        "##Identity function: \n",
        "\n",
        "The identity array is a square array with ones in its main diagonals.\n",
        "\n",
        "An identity function returns the identity array."
      ],
      "metadata": {
        "id": "O_NXQztP-tbD"
      }
    },
    {
      "cell_type": "code",
      "source": [
        "#help(np.identity)"
      ],
      "metadata": {
        "id": "Hq52coPO91gC"
      },
      "execution_count": null,
      "outputs": []
    },
    {
      "cell_type": "code",
      "source": [
        "e= np.identity(5, dtype='int')\n",
        "print(e)"
      ],
      "metadata": {
        "colab": {
          "base_uri": "https://localhost:8080/"
        },
        "id": "GAmQmond-Jzf",
        "outputId": "e9123724-5700-4d93-db84-f252c92326e1"
      },
      "execution_count": null,
      "outputs": [
        {
          "output_type": "stream",
          "name": "stdout",
          "text": [
            "[[1 0 0 0 0]\n",
            " [0 1 0 0 0]\n",
            " [0 0 1 0 0]\n",
            " [0 0 0 1 0]\n",
            " [0 0 0 0 1]]\n"
          ]
        }
      ]
    },
    {
      "cell_type": "markdown",
      "source": [
        "##Attributes of array:"
      ],
      "metadata": {
        "id": "4ZaTdgnqCoJK"
      }
    },
    {
      "cell_type": "code",
      "source": [
        "#----DIMENSIONS---\n",
        "a= np.array([1,2,3,4,5])\n",
        "#print(a.ndim)\n",
        "b=np.array([[1,2],[3,4]])\n",
        "print(b.ndim)\n",
        "\n",
        "#----SHAPE----\n",
        "#shape refers to the no of rows and the no of columns that your array is having.\n",
        "variable = np.array([[1,2],[3,4]])\n",
        "print(variable.shape)\n",
        "\n",
        "#---- DATA TYPE ----\n",
        "print(variable.dtype)\n",
        "\n",
        "#------ITEM SIZE ----\n",
        "print(variable.itemsize)"
      ],
      "metadata": {
        "colab": {
          "base_uri": "https://localhost:8080/"
        },
        "id": "SJjJ3ys1CnzO",
        "outputId": "caf6ff5d-0d88-43d0-e17e-0ee57ee1b6a8"
      },
      "execution_count": null,
      "outputs": [
        {
          "output_type": "stream",
          "name": "stdout",
          "text": [
            "2\n",
            "(2, 2)\n",
            "int64\n",
            "8\n"
          ]
        }
      ]
    },
    {
      "cell_type": "code",
      "source": [
        "v = np.array([[1,2],[3,4]])\n",
        "print(v.itemsize)"
      ],
      "metadata": {
        "colab": {
          "base_uri": "https://localhost:8080/"
        },
        "id": "HucVWRFSD3fo",
        "outputId": "5b595a44-be02-4ba0-a281-a5bc09ef71bf"
      },
      "execution_count": null,
      "outputs": [
        {
          "output_type": "stream",
          "name": "stdout",
          "text": [
            "8\n"
          ]
        }
      ]
    },
    {
      "cell_type": "markdown",
      "source": [
        "##Indexing in the numpy Library:\n"
      ],
      "metadata": {
        "id": "rs5U06XhiCqj"
      }
    },
    {
      "cell_type": "code",
      "source": [
        "a= np.array([9,8,7,6,5])\n",
        "print(a[1])\n",
        "print(a)\n",
        "print(a[0])\n",
        "print(a[-5])"
      ],
      "metadata": {
        "colab": {
          "base_uri": "https://localhost:8080/"
        },
        "id": "P4nRDo_HiJF4",
        "outputId": "ba6496b2-f88d-4538-9a90-817a333adf06"
      },
      "execution_count": null,
      "outputs": [
        {
          "output_type": "stream",
          "name": "stdout",
          "text": [
            "8\n",
            "[9 8 7 6 5]\n",
            "9\n",
            "9\n"
          ]
        }
      ]
    },
    {
      "cell_type": "code",
      "source": [
        "b= np.array([[1,2],[3,4]])\n",
        "print(b)\n",
        "print(b[1][0])"
      ],
      "metadata": {
        "colab": {
          "base_uri": "https://localhost:8080/"
        },
        "id": "pn7B43TLiWao",
        "outputId": "5acfc7b9-986e-4d40-ceda-68a1858165ab"
      },
      "execution_count": null,
      "outputs": [
        {
          "output_type": "stream",
          "name": "stdout",
          "text": [
            "[[1 2]\n",
            " [3 4]]\n",
            "3\n"
          ]
        }
      ]
    },
    {
      "cell_type": "markdown",
      "source": [
        "##Slicing in Numpy array\n",
        "\n",
        "Slicing in numpy array is a process in which a sub array is obtained out of the main array."
      ],
      "metadata": {
        "id": "GzFsYx-3wtQQ"
      }
    },
    {
      "cell_type": "code",
      "source": [
        "a= np.array([9,8,7,6,5])\n",
        "print(a[0:3])\n",
        "print(a[-4:-1])"
      ],
      "metadata": {
        "colab": {
          "base_uri": "https://localhost:8080/"
        },
        "id": "Kp4h_ZT5j7fG",
        "outputId": "b73c8f27-6ea9-425c-d5a9-49a8396c00bf"
      },
      "execution_count": null,
      "outputs": [
        {
          "output_type": "stream",
          "name": "stdout",
          "text": [
            "[9 8 7]\n",
            "[8 7 6]\n"
          ]
        }
      ]
    },
    {
      "cell_type": "code",
      "source": [
        "#Step function\n",
        "print(a[0:6:2])"
      ],
      "metadata": {
        "colab": {
          "base_uri": "https://localhost:8080/"
        },
        "id": "bxvt2nHV28zk",
        "outputId": "9d1e1653-36d6-4789-e866-7a14ef1ed17f"
      },
      "execution_count": null,
      "outputs": [
        {
          "output_type": "stream",
          "name": "stdout",
          "text": [
            "[9 7 5]\n"
          ]
        }
      ]
    },
    {
      "cell_type": "markdown",
      "source": [
        "#Basic Arithmetic operations in array:"
      ],
      "metadata": {
        "id": "EUtHAVS66MSz"
      }
    },
    {
      "cell_type": "code",
      "source": [
        "a= np.arange(1,5) #please note that the last no will not be included\n",
        "b= np.arange(5,9)\n",
        "print(a)\n",
        "print(a+2)\n",
        "# ---Multiplication\n",
        "print(a*6)\n",
        "#subtraction of 5 from a\n",
        "print(a-5)\n",
        "#--- to add two arrays---\n",
        "print(a+b)\n",
        "#---exponent---\n",
        "print(a**2)"
      ],
      "metadata": {
        "colab": {
          "base_uri": "https://localhost:8080/"
        },
        "id": "5rxzQp045XLM",
        "outputId": "deb2bc01-2f87-48b5-a0c9-72f87a95f680"
      },
      "execution_count": null,
      "outputs": [
        {
          "output_type": "stream",
          "name": "stdout",
          "text": [
            "[1 2 3 4]\n",
            "[3 4 5 6]\n",
            "[ 6 12 18 24]\n",
            "[-4 -3 -2 -1]\n",
            "[ 6  8 10 12]\n",
            "[ 1  4  9 16]\n"
          ]
        }
      ]
    },
    {
      "cell_type": "code",
      "source": [
        "#2-D array\n",
        "b= np.array([[5,6],[7,8]])\n",
        "print(b)\n",
        "print(b*2)"
      ],
      "metadata": {
        "colab": {
          "base_uri": "https://localhost:8080/"
        },
        "id": "nRUGxGQ96Yqu",
        "outputId": "fcc023ff-b137-47e1-b909-b0208b27e540"
      },
      "execution_count": null,
      "outputs": [
        {
          "output_type": "stream",
          "name": "stdout",
          "text": [
            "[[5 6]\n",
            " [7 8]]\n",
            "[[10 12]\n",
            " [14 16]]\n"
          ]
        }
      ]
    },
    {
      "cell_type": "code",
      "source": [
        "p=np.arange(1,5)\n",
        "q=np.array([5,6,7,8])\n",
        "print(p+q)\n",
        "print(p**q)\n",
        "print(p*q)\n",
        "print(p/q)"
      ],
      "metadata": {
        "colab": {
          "base_uri": "https://localhost:8080/"
        },
        "id": "69Vjs8vJ7wnh",
        "outputId": "0eb98ebd-0d9a-4bf4-ec18-56a223d6d5d9"
      },
      "execution_count": null,
      "outputs": [
        {
          "output_type": "stream",
          "name": "stdout",
          "text": [
            "[ 6  8 10 12]\n",
            "[    1    64  2187 65536]\n",
            "[ 5 12 21 32]\n",
            "[0.2        0.33333333 0.42857143 0.5       ]\n"
          ]
        }
      ]
    },
    {
      "cell_type": "markdown",
      "source": [
        "#Reshape and resize function:"
      ],
      "metadata": {
        "id": "wVK0YumrYVEE"
      }
    },
    {
      "cell_type": "markdown",
      "source": [
        "#Reshape function:\n",
        "### returns: a new shape to an array without changing its data"
      ],
      "metadata": {
        "id": "_b1neHseYaHM"
      }
    },
    {
      "cell_type": "code",
      "source": [
        "import numpy as np\n",
        "#help(np.reshape)\n",
        "a=np.arange(10)\n",
        "print(a)\n",
        "print(a.shape)\n",
        "\n",
        "b=np.reshape(a,(5,2))\n",
        "print(b)\n",
        "print(b.shape)\n",
        "\n"
      ],
      "metadata": {
        "id": "qAgrR6tV9GoB",
        "colab": {
          "base_uri": "https://localhost:8080/"
        },
        "outputId": "98b00af3-7853-455b-9cfe-1cc1ce5baf91"
      },
      "execution_count": null,
      "outputs": [
        {
          "output_type": "stream",
          "name": "stdout",
          "text": [
            "[0 1 2 3 4 5 6 7 8 9]\n",
            "(10,)\n",
            "[[0 1]\n",
            " [2 3]\n",
            " [4 5]\n",
            " [6 7]\n",
            " [8 9]]\n",
            "(5, 2)\n"
          ]
        }
      ]
    },
    {
      "cell_type": "code",
      "source": [
        "c=np.reshape(a, (5,2), order=\"F\")\n",
        "print(c)"
      ],
      "metadata": {
        "colab": {
          "base_uri": "https://localhost:8080/"
        },
        "id": "R7QulMpsYspd",
        "outputId": "b8ccd62a-f374-4dc2-b24a-5626e9a47f11"
      },
      "execution_count": null,
      "outputs": [
        {
          "output_type": "stream",
          "name": "stdout",
          "text": [
            "[[0 5]\n",
            " [1 6]\n",
            " [2 7]\n",
            " [3 8]\n",
            " [4 9]]\n"
          ]
        }
      ]
    },
    {
      "cell_type": "markdown",
      "source": [
        "##Resize function"
      ],
      "metadata": {
        "id": "NdLtR-4ka07j"
      }
    },
    {
      "cell_type": "code",
      "source": [
        "#help(np.resize)\n",
        "a= np.arange(5)\n",
        "print(a)\n",
        "print(np.resize(a, (2,3)))\n"
      ],
      "metadata": {
        "colab": {
          "base_uri": "https://localhost:8080/"
        },
        "id": "AoGkGjKHaj3M",
        "outputId": "79fa7d47-27f1-44a1-f331-2f454712e07a"
      },
      "execution_count": null,
      "outputs": [
        {
          "output_type": "stream",
          "name": "stdout",
          "text": [
            "[0 1 2 3 4]\n",
            "[[0 1 2]\n",
            " [3 4 0]]\n"
          ]
        }
      ]
    },
    {
      "cell_type": "markdown",
      "source": [
        "#Flatten Function:\n",
        "\n",
        "flatten() returns a copy of the array collapsed into 1 D"
      ],
      "metadata": {
        "id": "bv3BdTb3bwFc"
      }
    },
    {
      "cell_type": "code",
      "source": [
        "import numpy as np\n",
        "a= np.array([[1,2],[3,4]])\n",
        "print(a)\n",
        "\n",
        "print(a.flatten()) #converts 2D array into 1D array"
      ],
      "metadata": {
        "colab": {
          "base_uri": "https://localhost:8080/"
        },
        "id": "M2P68cK-a5qF",
        "outputId": "42271ae5-9f8b-45d1-ccf0-203b3cf2e6ec"
      },
      "execution_count": null,
      "outputs": [
        {
          "output_type": "stream",
          "name": "stdout",
          "text": [
            "[[1 2]\n",
            " [3 4]]\n",
            "[1 2 3 4]\n"
          ]
        }
      ]
    },
    {
      "cell_type": "code",
      "source": [
        "b=np.array([[1,2,3],[4,5,6],[7,8,9]])\n",
        "print(b)\n",
        "print(b.flatten()) #row wise\n",
        "print(b.flatten(order=\"F\")) #column wise"
      ],
      "metadata": {
        "colab": {
          "base_uri": "https://localhost:8080/"
        },
        "id": "TjPQD8ArcVBB",
        "outputId": "4edcf25f-17a1-45c5-f1d5-e65506f0cbc4"
      },
      "execution_count": null,
      "outputs": [
        {
          "output_type": "stream",
          "name": "stdout",
          "text": [
            "[[1 2 3]\n",
            " [4 5 6]\n",
            " [7 8 9]]\n",
            "[1 2 3 4 5 6 7 8 9]\n",
            "[1 4 7 2 5 8 3 6 9]\n"
          ]
        }
      ]
    },
    {
      "cell_type": "markdown",
      "source": [
        "#Ravel Function:\n",
        "Used to change a 2D array or a multidimentional array into a contigous flatten function.\n",
        "similar to flatten function"
      ],
      "metadata": {
        "id": "jWf6q013eFZw"
      }
    },
    {
      "cell_type": "code",
      "source": [
        "#help(np.ravel)\n",
        "a= np.array([[2,3],[4,5]])\n",
        "print(a)\n",
        "print(np.ravel(a))\n",
        "\n"
      ],
      "metadata": {
        "colab": {
          "base_uri": "https://localhost:8080/"
        },
        "id": "ilJsUkoTdWDR",
        "outputId": "14bb5a66-5a66-4d6b-f9eb-21d76bdda2ed"
      },
      "execution_count": null,
      "outputs": [
        {
          "output_type": "stream",
          "name": "stdout",
          "text": [
            "[[2 3]\n",
            " [4 5]]\n",
            "[2 3 4 5]\n"
          ]
        }
      ]
    },
    {
      "cell_type": "code",
      "source": [
        "b= np.array([[2,3,4],[5,6,7],[8,9,10]])\n",
        "print(b)\n",
        "print(np.ravel(b))\n"
      ],
      "metadata": {
        "colab": {
          "base_uri": "https://localhost:8080/"
        },
        "id": "wOTArR5KepzT",
        "outputId": "bcf4418a-8a97-44a6-fb60-4107007bb71b"
      },
      "execution_count": null,
      "outputs": [
        {
          "output_type": "stream",
          "name": "stdout",
          "text": [
            "[[ 2  3  4]\n",
            " [ 5  6  7]\n",
            " [ 8  9 10]]\n",
            "[ 2  3  4  5  6  7  8  9 10]\n"
          ]
        }
      ]
    },
    {
      "cell_type": "code",
      "source": [
        "print(np.ravel(b, order='F'))"
      ],
      "metadata": {
        "colab": {
          "base_uri": "https://localhost:8080/"
        },
        "id": "qBrNB9QofcHx",
        "outputId": "8a0e6b50-d4bd-48d0-858a-4307eaa923f0"
      },
      "execution_count": null,
      "outputs": [
        {
          "output_type": "stream",
          "name": "stdout",
          "text": [
            "[ 2  5  8  3  6  9  4  7 10]\n"
          ]
        }
      ]
    },
    {
      "cell_type": "markdown",
      "source": [
        "#Transpose function\n",
        "\n",
        "Transpose function changes the row elements into column elements and the column elements into row elements.\n"
      ],
      "metadata": {
        "id": "dgyp9ZFFg7La"
      }
    },
    {
      "cell_type": "code",
      "source": [
        "#help(np.transpose)\n",
        "a= np.arange(1,11).reshape(5,2)\n",
        "print(a)\n",
        "print(a.shape)\n"
      ],
      "metadata": {
        "colab": {
          "base_uri": "https://localhost:8080/"
        },
        "id": "pKUF3Iu5fnb5",
        "outputId": "618a2238-861e-40ee-b8e9-45448be8cc41"
      },
      "execution_count": null,
      "outputs": [
        {
          "output_type": "stream",
          "name": "stdout",
          "text": [
            "[[ 1  2]\n",
            " [ 3  4]\n",
            " [ 5  6]\n",
            " [ 7  8]\n",
            " [ 9 10]]\n",
            "(5, 2)\n"
          ]
        }
      ]
    },
    {
      "cell_type": "code",
      "source": [
        "print(np.transpose(a))\n",
        "print(np.transpose(a).shape)"
      ],
      "metadata": {
        "colab": {
          "base_uri": "https://localhost:8080/"
        },
        "id": "RUXKQTTViKay",
        "outputId": "e27ee84a-7492-4f9f-ff73-be58e4847f6b"
      },
      "execution_count": null,
      "outputs": [
        {
          "output_type": "stream",
          "name": "stdout",
          "text": [
            "[[ 1  3  5  7  9]\n",
            " [ 2  4  6  8 10]]\n",
            "(2, 5)\n"
          ]
        }
      ]
    },
    {
      "cell_type": "code",
      "source": [
        "b= np.arange(1,25).reshape(2,3,4) #2--> no of arrays  #3--> no of rows  #4--> no of columns\n",
        "print(b)\n",
        "print(b.shape)\n"
      ],
      "metadata": {
        "colab": {
          "base_uri": "https://localhost:8080/"
        },
        "id": "UhRuutgajAy6",
        "outputId": "676a65bc-0144-4928-ca59-b5615bea7277"
      },
      "execution_count": null,
      "outputs": [
        {
          "output_type": "stream",
          "name": "stdout",
          "text": [
            "[[[ 1  2  3  4]\n",
            "  [ 5  6  7  8]\n",
            "  [ 9 10 11 12]]\n",
            "\n",
            " [[13 14 15 16]\n",
            "  [17 18 19 20]\n",
            "  [21 22 23 24]]]\n",
            "(2, 3, 4)\n"
          ]
        }
      ]
    },
    {
      "cell_type": "code",
      "source": [
        "\n",
        "print(np.transpose(b))\n",
        "print(np.transpose(b).shape)"
      ],
      "metadata": {
        "colab": {
          "base_uri": "https://localhost:8080/"
        },
        "id": "UmE_4Be5jrj5",
        "outputId": "36c9a665-1d13-4a87-edc2-a4453717fac1"
      },
      "execution_count": null,
      "outputs": [
        {
          "output_type": "stream",
          "name": "stdout",
          "text": [
            "[[[ 1 13]\n",
            "  [ 5 17]\n",
            "  [ 9 21]]\n",
            "\n",
            " [[ 2 14]\n",
            "  [ 6 18]\n",
            "  [10 22]]\n",
            "\n",
            " [[ 3 15]\n",
            "  [ 7 19]\n",
            "  [11 23]]\n",
            "\n",
            " [[ 4 16]\n",
            "  [ 8 20]\n",
            "  [12 24]]]\n",
            "(4, 3, 2)\n"
          ]
        }
      ]
    },
    {
      "cell_type": "code",
      "source": [
        "#transpose function in 1D \n",
        "a= np.arange(10)\n",
        "print(a)\n",
        "print(np.transpose(a)) #there is no changes on 1 D array."
      ],
      "metadata": {
        "colab": {
          "base_uri": "https://localhost:8080/"
        },
        "id": "YqGuYXQOk167",
        "outputId": "9f23258d-e636-4f63-cdac-30bc42a72ae6"
      },
      "execution_count": null,
      "outputs": [
        {
          "output_type": "stream",
          "name": "stdout",
          "text": [
            "[0 1 2 3 4 5 6 7 8 9]\n",
            "[0 1 2 3 4 5 6 7 8 9]\n"
          ]
        }
      ]
    },
    {
      "cell_type": "code",
      "source": [
        ""
      ],
      "metadata": {
        "id": "K8PYN42jlFJp"
      },
      "execution_count": null,
      "outputs": []
    }
  ]
}